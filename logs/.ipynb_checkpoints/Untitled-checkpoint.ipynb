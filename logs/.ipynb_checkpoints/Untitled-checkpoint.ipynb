{
 "cells": [
  {
   "cell_type": "code",
   "execution_count": 5,
   "metadata": {},
   "outputs": [],
   "source": []
  },
  {
   "cell_type": "code",
   "execution_count": 58,
   "metadata": {},
   "outputs": [
    {
     "data": {
      "text/plain": [
       "['2020-08-26 10:05:52.223170: step 0, loss = 4.67 (522.2 examples/sec; 0.245 sec/batch)',\n",
       " '2020-08-26 10:05:56.367186: step 10, loss = 4.59 (308.9 examples/sec; 0.414 sec/batch)',\n",
       " '2020-08-26 10:06:00.469453: step 20, loss = 4.64 (312.0 examples/sec; 0.410 sec/batch)',\n",
       " '2020-08-26 10:06:04.454095: step 30, loss = 4.52 (321.2 examples/sec; 0.398 sec/batch)',\n",
       " '2020-08-26 10:06:08.478950: step 40, loss = 4.30 (318.0 examples/sec; 0.402 sec/batch)',\n",
       " '2020-08-26 10:06:12.599520: step 50, loss = 4.32 (310.6 examples/sec; 0.412 sec/batch)',\n",
       " '2020-08-26 10:06:16.438977: step 60, loss = 4.28 (333.4 examples/sec; 0.384 sec/batch)',\n",
       " '2020-08-26 10:06:20.333011: step 70, loss = 4.22 (328.7 examples/sec; 0.389 sec/batch)',\n",
       " '2020-08-26 10:06:24.135081: step 80, loss = 4.12 (336.7 examples/sec; 0.380 sec/batch)',\n",
       " '2020-08-26 10:06:27.938059: step 90, loss = 4.21 (336.6 examples/sec; 0.380 sec/batch)',\n",
       " 'INFO:tensorflow:global_step/sec: 2.50074',\n",
       " 'I0826 10:06:32.211383 11504 basic_session_run_hooks.py:692] global_step/sec: 2.50074',\n",
       " '2020-08-26 10:06:32.223429: step 100, loss = 4.12 (298.7 examples/sec; 0.429 sec/batch)',\n",
       " '2020-08-26 10:06:38.012303: step 110, loss = 4.24 (221.1 examples/sec; 0.579 sec/batch)',\n",
       " '2020-08-26 10:06:42.819972: step 120, loss = 4.07 (266.2 examples/sec; 0.481 sec/batch)',\n",
       " '2020-08-26 10:06:47.295426: step 130, loss = 4.03 (286.0 examples/sec; 0.448 sec/batch)',\n",
       " '2020-08-26 10:06:51.394910: step 140, loss = 4.10 (312.2 examples/sec; 0.410 sec/batch)',\n",
       " '2020-08-26 10:06:55.623770: step 150, loss = 4.03 (302.7 examples/sec; 0.423 sec/batch)',\n",
       " '2020-08-26 10:06:59.676401: step 160, loss = 4.19 (315.8 examples/sec; 0.405 sec/batch)',\n",
       " '2020-08-26 10:07:03.621372: step 170, loss = 3.93 (324.5 examples/sec; 0.394 sec/batch)',\n",
       " '2020-08-26 10:07:07.611801: step 180, loss = 3.88 (320.8 examples/sec; 0.399 sec/batch)',\n",
       " '2020-08-26 10:07:12.018169: step 190, loss = 3.89 (290.5 examples/sec; 0.441 sec/batch)',\n",
       " 'INFO:tensorflow:global_step/sec: 2.24979',\n",
       " 'I0826 10:07:16.660042 11504 basic_session_run_hooks.py:692] global_step/sec: 2.24979',\n",
       " '2020-08-26 10:07:16.662037: step 200, loss = 3.85 (275.6 examples/sec; 0.464 sec/batch)',\n",
       " '2020-08-26 10:07:20.492779: step 210, loss = 3.83 (334.1 examples/sec; 0.383 sec/batch)',\n",
       " '2020-08-26 10:07:24.176256: step 220, loss = 3.94 (347.5 examples/sec; 0.368 sec/batch)',\n",
       " '2020-08-26 10:07:28.242272: step 230, loss = 3.76 (314.8 examples/sec; 0.407 sec/batch)',\n",
       " '2020-08-26 10:07:32.183051: step 240, loss = 3.84 (324.8 examples/sec; 0.394 sec/batch)',\n",
       " '2020-08-26 10:07:35.873044: step 250, loss = 3.77 (346.9 examples/sec; 0.369 sec/batch)',\n",
       " '2020-08-26 10:07:39.584923: step 260, loss = 3.54 (344.8 examples/sec; 0.371 sec/batch)',\n",
       " '2020-08-26 10:07:43.045772: step 270, loss = 3.53 (369.9 examples/sec; 0.346 sec/batch)',\n",
       " '2020-08-26 10:07:47.975100: step 280, loss = 3.74 (259.7 examples/sec; 0.493 sec/batch)',\n",
       " '2020-08-26 10:07:53.337111: step 290, loss = 3.59 (238.7 examples/sec; 0.536 sec/batch)',\n",
       " 'INFO:tensorflow:global_step/sec: 2.4144',\n",
       " 'I0826 10:07:58.078245 11504 basic_session_run_hooks.py:692] global_step/sec: 2.4144',\n",
       " '2020-08-26 10:07:58.081758: step 300, loss = 3.68 (269.8 examples/sec; 0.474 sec/batch)',\n",
       " '2020-08-26 10:08:02.036104: step 310, loss = 3.50 (323.7 examples/sec; 0.395 sec/batch)',\n",
       " '2020-08-26 10:08:05.777977: step 320, loss = 3.60 (342.1 examples/sec; 0.374 sec/batch)',\n",
       " '2020-08-26 10:08:09.280183: step 330, loss = 3.53 (365.5 examples/sec; 0.350 sec/batch)',\n",
       " '2020-08-26 10:08:13.070644: step 340, loss = 3.50 (337.7 examples/sec; 0.379 sec/batch)',\n",
       " '2020-08-26 10:08:16.613588: step 350, loss = 3.47 (361.3 examples/sec; 0.354 sec/batch)',\n",
       " '2020-08-26 10:08:20.178588: step 360, loss = 3.31 (359.0 examples/sec; 0.356 sec/batch)',\n",
       " '2020-08-26 10:08:23.797495: step 370, loss = 3.47 (353.7 examples/sec; 0.362 sec/batch)',\n",
       " '2020-08-26 10:08:27.431301: step 380, loss = 3.49 (352.2 examples/sec; 0.363 sec/batch)',\n",
       " '2020-08-26 10:08:30.815063: step 390, loss = 3.41 (378.3 examples/sec; 0.338 sec/batch)',\n",
       " 'INFO:tensorflow:global_step/sec: 2.75457',\n",
       " 'I0826 10:08:34.381558 11504 basic_session_run_hooks.py:692] global_step/sec: 2.75457',\n",
       " '2020-08-26 10:08:34.384550: step 400, loss = 3.28 (358.6 examples/sec; 0.357 sec/batch)',\n",
       " '2020-08-26 10:08:37.920445: step 410, loss = 3.48 (362.0 examples/sec; 0.354 sec/batch)',\n",
       " '2020-08-26 10:08:41.316239: step 420, loss = 3.22 (376.9 examples/sec; 0.340 sec/batch)',\n",
       " '2020-08-26 10:08:44.732869: step 430, loss = 3.26 (374.6 examples/sec; 0.342 sec/batch)',\n",
       " '2020-08-26 10:08:48.285897: step 440, loss = 3.27 (360.3 examples/sec; 0.355 sec/batch)',\n",
       " '2020-08-26 10:08:51.689828: step 450, loss = 3.59 (376.0 examples/sec; 0.340 sec/batch)',\n",
       " '2020-08-26 10:08:55.030433: step 460, loss = 3.47 (383.2 examples/sec; 0.334 sec/batch)',\n",
       " '2020-08-26 10:08:58.345697: step 470, loss = 3.29 (386.1 examples/sec; 0.332 sec/batch)',\n",
       " '2020-08-26 10:09:01.733727: step 480, loss = 3.19 (377.8 examples/sec; 0.339 sec/batch)',\n",
       " '2020-08-26 10:09:05.092356: step 490, loss = 3.06 (381.1 examples/sec; 0.336 sec/batch)',\n",
       " 'INFO:tensorflow:global_step/sec: 2.93175',\n",
       " 'I0826 10:09:08.490851 11504 basic_session_run_hooks.py:692] global_step/sec: 2.93175',\n",
       " '2020-08-26 10:09:08.492846: step 500, loss = 3.55 (376.4 examples/sec; 0.340 sec/batch)',\n",
       " '2020-08-26 10:09:11.976563: step 510, loss = 2.94 (367.4 examples/sec; 0.348 sec/batch)',\n",
       " '2020-08-26 10:09:15.333128: step 520, loss = 3.19 (381.3 examples/sec; 0.336 sec/batch)',\n",
       " '2020-08-26 10:09:18.648615: step 530, loss = 3.01 (386.1 examples/sec; 0.332 sec/batch)',\n",
       " '2020-08-26 10:09:22.040828: step 540, loss = 2.91 (377.3 examples/sec; 0.339 sec/batch)',\n",
       " '2020-08-26 10:09:25.470374: step 550, loss = 3.01 (373.2 examples/sec; 0.343 sec/batch)',\n",
       " '2020-08-26 10:09:28.744849: step 560, loss = 2.89 (390.9 examples/sec; 0.327 sec/batch)',\n",
       " '2020-08-26 10:09:32.053044: step 570, loss = 3.26 (386.9 examples/sec; 0.331 sec/batch)',\n",
       " '2020-08-26 10:09:35.459465: step 580, loss = 3.02 (375.8 examples/sec; 0.341 sec/batch)',\n",
       " '2020-08-26 10:09:38.878381: step 590, loss = 3.09 (374.4 examples/sec; 0.342 sec/batch)',\n",
       " 'INFO:tensorflow:global_step/sec: 2.95837',\n",
       " 'I0826 10:09:42.294279 11504 basic_session_run_hooks.py:692] global_step/sec: 2.95837',\n",
       " '2020-08-26 10:09:42.295276: step 600, loss = 3.04 (374.6 examples/sec; 0.342 sec/batch)',\n",
       " '2020-08-26 10:09:45.660875: step 610, loss = 3.30 (380.3 examples/sec; 0.337 sec/batch)',\n",
       " '2020-08-26 10:09:49.102872: step 620, loss = 2.89 (371.9 examples/sec; 0.344 sec/batch)',\n",
       " '2020-08-26 10:09:52.560265: step 630, loss = 2.84 (370.2 examples/sec; 0.346 sec/batch)',\n",
       " '2020-08-26 10:09:56.058493: step 640, loss = 2.78 (365.9 examples/sec; 0.350 sec/batch)',\n",
       " '2020-08-26 10:09:59.388737: step 650, loss = 2.93 (384.4 examples/sec; 0.333 sec/batch)',\n",
       " '2020-08-26 10:10:02.753928: step 660, loss = 2.99 (380.4 examples/sec; 0.337 sec/batch)',\n",
       " '2020-08-26 10:10:06.133692: step 670, loss = 3.02 (378.7 examples/sec; 0.338 sec/batch)',\n",
       " '2020-08-26 10:10:09.519368: step 680, loss = 3.05 (378.1 examples/sec; 0.339 sec/batch)',\n",
       " '2020-08-26 10:10:12.990694: step 690, loss = 2.90 (368.7 examples/sec; 0.347 sec/batch)',\n",
       " 'INFO:tensorflow:global_step/sec: 2.93248',\n",
       " 'I0826 10:10:16.394168 11504 basic_session_run_hooks.py:692] global_step/sec: 2.93248',\n",
       " '2020-08-26 10:10:16.396162: step 700, loss = 2.77 (375.9 examples/sec; 0.341 sec/batch)',\n",
       " '2020-08-26 10:10:19.760590: step 710, loss = 2.93 (380.5 examples/sec; 0.336 sec/batch)',\n",
       " '2020-08-26 10:10:23.240621: step 720, loss = 2.76 (367.8 examples/sec; 0.348 sec/batch)',\n",
       " '2020-08-26 10:10:26.606064: step 730, loss = 2.86 (380.4 examples/sec; 0.336 sec/batch)',\n",
       " '2020-08-26 10:10:30.049060: step 740, loss = 2.70 (371.7 examples/sec; 0.344 sec/batch)',\n",
       " '2020-08-26 10:10:33.432474: step 750, loss = 2.85 (378.3 examples/sec; 0.338 sec/batch)',\n",
       " '2020-08-26 10:10:36.948143: step 760, loss = 2.84 (364.1 examples/sec; 0.352 sec/batch)',\n",
       " '2020-08-26 10:10:40.330039: step 770, loss = 2.71 (378.5 examples/sec; 0.338 sec/batch)',\n",
       " '2020-08-26 10:10:43.709576: step 780, loss = 2.83 (378.8 examples/sec; 0.338 sec/batch)',\n",
       " '2020-08-26 10:10:47.166383: step 790, loss = 2.70 (370.3 examples/sec; 0.346 sec/batch)',\n",
       " 'INFO:tensorflow:global_step/sec: 2.92952',\n",
       " 'I0826 10:10:50.530452 11504 basic_session_run_hooks.py:692] global_step/sec: 2.92952',\n",
       " '2020-08-26 10:10:50.531449: step 800, loss = 2.65 (380.4 examples/sec; 0.337 sec/batch)',\n",
       " '2020-08-26 10:10:53.979409: step 810, loss = 2.69 (371.2 examples/sec; 0.345 sec/batch)',\n",
       " '2020-08-26 10:10:57.356624: step 820, loss = 2.97 (379.0 examples/sec; 0.338 sec/batch)',\n",
       " '2020-08-26 10:11:00.687768: step 830, loss = 2.59 (384.3 examples/sec; 0.333 sec/batch)',\n",
       " '2020-08-26 10:11:04.170535: step 840, loss = 2.85 (367.5 examples/sec; 0.348 sec/batch)',\n",
       " '2020-08-26 10:11:07.510240: step 850, loss = 2.61 (383.3 examples/sec; 0.334 sec/batch)',\n",
       " '2020-08-26 10:11:10.828489: step 860, loss = 2.65 (385.7 examples/sec; 0.332 sec/batch)',\n",
       " '2020-08-26 10:11:14.348612: step 870, loss = 2.68 (363.6 examples/sec; 0.352 sec/batch)',\n",
       " '2020-08-26 10:11:17.761874: step 880, loss = 2.54 (375.0 examples/sec; 0.341 sec/batch)',\n",
       " '2020-08-26 10:11:21.053765: step 890, loss = 2.40 (388.8 examples/sec; 0.329 sec/batch)',\n",
       " 'INFO:tensorflow:global_step/sec: 2.94052',\n",
       " 'I0826 10:11:24.537017 11504 basic_session_run_hooks.py:692] global_step/sec: 2.94052',\n",
       " '2020-08-26 10:11:24.539011: step 900, loss = 2.56 (367.3 examples/sec; 0.349 sec/batch)',\n",
       " '2020-08-26 10:11:27.892791: step 910, loss = 2.44 (381.7 examples/sec; 0.335 sec/batch)',\n",
       " '2020-08-26 10:11:31.212977: step 920, loss = 2.82 (385.5 examples/sec; 0.332 sec/batch)',\n",
       " '2020-08-26 10:11:34.649125: step 930, loss = 2.51 (372.5 examples/sec; 0.344 sec/batch)',\n",
       " '2020-08-26 10:11:38.019288: step 940, loss = 2.43 (379.8 examples/sec; 0.337 sec/batch)',\n",
       " '2020-08-26 10:11:41.448049: step 950, loss = 2.43 (373.3 examples/sec; 0.343 sec/batch)',\n",
       " '2020-08-26 10:11:44.850235: step 960, loss = 2.61 (376.2 examples/sec; 0.340 sec/batch)',\n",
       " '2020-08-26 10:11:48.334097: step 970, loss = 2.32 (367.4 examples/sec; 0.348 sec/batch)',\n",
       " '2020-08-26 10:11:51.714835: step 980, loss = 2.46 (378.6 examples/sec; 0.338 sec/batch)',\n",
       " '2020-08-26 10:11:55.058950: step 990, loss = 2.39 (382.8 examples/sec; 0.334 sec/batch)',\n",
       " 'INFO:tensorflow:Saving checkpoints for 1000 into /tmp/cifar10_train\\\\model.ckpt.',\n",
       " 'I0826 10:11:58.176193 11504 basic_session_run_hooks.py:606] Saving checkpoints for 1000 into /tmp/cifar10_train\\\\model.ckpt.',\n",
       " '']"
      ]
     },
     "execution_count": 58,
     "metadata": {},
     "output_type": "execute_result"
    }
   ],
   "source": []
  },
  {
   "cell_type": "code",
   "execution_count": 67,
   "metadata": {
    "scrolled": true
   },
   "outputs": [
    {
     "data": {
      "text/plain": [
       "[<matplotlib.lines.Line2D at 0x11badc5c0>]"
      ]
     },
     "execution_count": 67,
     "metadata": {},
     "output_type": "execute_result"
    },
    {
     "data": {
      "image/png": "[encoded data removed]",
      "text/plain": [
       "<Figure size 432x288 with 1 Axes>"
      ]
     },
     "metadata": {
      "needs_background": "light"
     },
     "output_type": "display_data"
    }
   ],
   "source": [
    "import datetime\n",
    "import matplotlib.pyplot as plt\n",
    "\n",
    "def plot_eps(output_path): \n",
    "    with open(output_path, 'r') as f: \n",
    "        output=f.read()\n",
    "    output_list=output.split('\\n')\n",
    "    examples=[]\n",
    "    times_elapsed=[]\n",
    "    times_diff=[]\n",
    "    for each_output in output_list: \n",
    "        if each_output[:4]=='2020': \n",
    "            example=float(each_output.split('(')[1].split(' ')[0])\n",
    "            examples.append(example)\n",
    "            time_elapsed=each_output.split(': ')[0]\n",
    "            times_elapsed.append(time_elapsed)\n",
    "    start_time=datetime.datetime.fromisoformat(times_elapsed[0])\n",
    "    float(str(timedelta.seconds)+'.'+str(timedelta.microseconds))\n",
    "    for each_time_elapsed in times_elapsed: \n",
    "        time=datetime.datetime.fromisoformat(each_time_elapsed)\n",
    "        difference=(time-start_time).total_seconds()\n",
    "        times_diff.append(difference)\n",
    "    plt.plot(times_diff, examples)"
   ]
  },
  {
   "cell_type": "code",
   "execution_count": 66,
   "metadata": {},
   "outputs": [
    {
     "data": {
      "text/plain": [
       "[datetime.datetime(2020, 8, 26, 10, 11, 55, 58950),\n",
       " datetime.datetime(2020, 8, 26, 10, 11, 55, 58950),\n",
       " datetime.datetime(2020, 8, 26, 10, 11, 55, 58950),\n",
       " datetime.datetime(2020, 8, 26, 10, 11, 55, 58950),\n",
       " datetime.datetime(2020, 8, 26, 10, 11, 55, 58950),\n",
       " datetime.datetime(2020, 8, 26, 10, 11, 55, 58950),\n",
       " datetime.datetime(2020, 8, 26, 10, 11, 55, 58950),\n",
       " datetime.datetime(2020, 8, 26, 10, 11, 55, 58950),\n",
       " datetime.datetime(2020, 8, 26, 10, 11, 55, 58950),\n",
       " datetime.datetime(2020, 8, 26, 10, 11, 55, 58950),\n",
       " datetime.datetime(2020, 8, 26, 10, 11, 55, 58950),\n",
       " datetime.datetime(2020, 8, 26, 10, 11, 55, 58950),\n",
       " datetime.datetime(2020, 8, 26, 10, 11, 55, 58950),\n",
       " datetime.datetime(2020, 8, 26, 10, 11, 55, 58950),\n",
       " datetime.datetime(2020, 8, 26, 10, 11, 55, 58950),\n",
       " datetime.datetime(2020, 8, 26, 10, 11, 55, 58950),\n",
       " datetime.datetime(2020, 8, 26, 10, 11, 55, 58950),\n",
       " datetime.datetime(2020, 8, 26, 10, 11, 55, 58950),\n",
       " datetime.datetime(2020, 8, 26, 10, 11, 55, 58950),\n",
       " datetime.datetime(2020, 8, 26, 10, 11, 55, 58950),\n",
       " datetime.datetime(2020, 8, 26, 10, 11, 55, 58950),\n",
       " datetime.datetime(2020, 8, 26, 10, 11, 55, 58950),\n",
       " datetime.datetime(2020, 8, 26, 10, 11, 55, 58950),\n",
       " datetime.datetime(2020, 8, 26, 10, 11, 55, 58950),\n",
       " datetime.datetime(2020, 8, 26, 10, 11, 55, 58950),\n",
       " datetime.datetime(2020, 8, 26, 10, 11, 55, 58950),\n",
       " datetime.datetime(2020, 8, 26, 10, 11, 55, 58950),\n",
       " datetime.datetime(2020, 8, 26, 10, 11, 55, 58950),\n",
       " datetime.datetime(2020, 8, 26, 10, 11, 55, 58950),\n",
       " datetime.datetime(2020, 8, 26, 10, 11, 55, 58950),\n",
       " datetime.datetime(2020, 8, 26, 10, 11, 55, 58950),\n",
       " datetime.datetime(2020, 8, 26, 10, 11, 55, 58950),\n",
       " datetime.datetime(2020, 8, 26, 10, 11, 55, 58950),\n",
       " datetime.datetime(2020, 8, 26, 10, 11, 55, 58950),\n",
       " datetime.datetime(2020, 8, 26, 10, 11, 55, 58950),\n",
       " datetime.datetime(2020, 8, 26, 10, 11, 55, 58950),\n",
       " datetime.datetime(2020, 8, 26, 10, 11, 55, 58950),\n",
       " datetime.datetime(2020, 8, 26, 10, 11, 55, 58950),\n",
       " datetime.datetime(2020, 8, 26, 10, 11, 55, 58950),\n",
       " datetime.datetime(2020, 8, 26, 10, 11, 55, 58950),\n",
       " datetime.datetime(2020, 8, 26, 10, 11, 55, 58950),\n",
       " datetime.datetime(2020, 8, 26, 10, 11, 55, 58950),\n",
       " datetime.datetime(2020, 8, 26, 10, 11, 55, 58950),\n",
       " datetime.datetime(2020, 8, 26, 10, 11, 55, 58950),\n",
       " datetime.datetime(2020, 8, 26, 10, 11, 55, 58950),\n",
       " datetime.datetime(2020, 8, 26, 10, 11, 55, 58950),\n",
       " datetime.datetime(2020, 8, 26, 10, 11, 55, 58950),\n",
       " datetime.datetime(2020, 8, 26, 10, 11, 55, 58950),\n",
       " datetime.datetime(2020, 8, 26, 10, 11, 55, 58950),\n",
       " datetime.datetime(2020, 8, 26, 10, 11, 55, 58950),\n",
       " datetime.datetime(2020, 8, 26, 10, 11, 55, 58950),\n",
       " datetime.datetime(2020, 8, 26, 10, 11, 55, 58950),\n",
       " datetime.datetime(2020, 8, 26, 10, 11, 55, 58950),\n",
       " datetime.datetime(2020, 8, 26, 10, 11, 55, 58950),\n",
       " datetime.datetime(2020, 8, 26, 10, 11, 55, 58950),\n",
       " datetime.datetime(2020, 8, 26, 10, 11, 55, 58950),\n",
       " datetime.datetime(2020, 8, 26, 10, 11, 55, 58950),\n",
       " datetime.datetime(2020, 8, 26, 10, 11, 55, 58950),\n",
       " datetime.datetime(2020, 8, 26, 10, 11, 55, 58950),\n",
       " datetime.datetime(2020, 8, 26, 10, 11, 55, 58950),\n",
       " datetime.datetime(2020, 8, 26, 10, 11, 55, 58950),\n",
       " datetime.datetime(2020, 8, 26, 10, 11, 55, 58950),\n",
       " datetime.datetime(2020, 8, 26, 10, 11, 55, 58950),\n",
       " datetime.datetime(2020, 8, 26, 10, 11, 55, 58950),\n",
       " datetime.datetime(2020, 8, 26, 10, 11, 55, 58950),\n",
       " datetime.datetime(2020, 8, 26, 10, 11, 55, 58950),\n",
       " datetime.datetime(2020, 8, 26, 10, 11, 55, 58950),\n",
       " datetime.datetime(2020, 8, 26, 10, 11, 55, 58950),\n",
       " datetime.datetime(2020, 8, 26, 10, 11, 55, 58950),\n",
       " datetime.datetime(2020, 8, 26, 10, 11, 55, 58950),\n",
       " datetime.datetime(2020, 8, 26, 10, 11, 55, 58950),\n",
       " datetime.datetime(2020, 8, 26, 10, 11, 55, 58950),\n",
       " datetime.datetime(2020, 8, 26, 10, 11, 55, 58950),\n",
       " datetime.datetime(2020, 8, 26, 10, 11, 55, 58950),\n",
       " datetime.datetime(2020, 8, 26, 10, 11, 55, 58950),\n",
       " datetime.datetime(2020, 8, 26, 10, 11, 55, 58950),\n",
       " datetime.datetime(2020, 8, 26, 10, 11, 55, 58950),\n",
       " datetime.datetime(2020, 8, 26, 10, 11, 55, 58950),\n",
       " datetime.datetime(2020, 8, 26, 10, 11, 55, 58950),\n",
       " datetime.datetime(2020, 8, 26, 10, 11, 55, 58950),\n",
       " datetime.datetime(2020, 8, 26, 10, 11, 55, 58950),\n",
       " datetime.datetime(2020, 8, 26, 10, 11, 55, 58950),\n",
       " datetime.datetime(2020, 8, 26, 10, 11, 55, 58950),\n",
       " datetime.datetime(2020, 8, 26, 10, 11, 55, 58950),\n",
       " datetime.datetime(2020, 8, 26, 10, 11, 55, 58950),\n",
       " datetime.datetime(2020, 8, 26, 10, 11, 55, 58950),\n",
       " datetime.datetime(2020, 8, 26, 10, 11, 55, 58950),\n",
       " datetime.datetime(2020, 8, 26, 10, 11, 55, 58950),\n",
       " datetime.datetime(2020, 8, 26, 10, 11, 55, 58950),\n",
       " datetime.datetime(2020, 8, 26, 10, 11, 55, 58950),\n",
       " datetime.datetime(2020, 8, 26, 10, 11, 55, 58950),\n",
       " datetime.datetime(2020, 8, 26, 10, 11, 55, 58950),\n",
       " datetime.datetime(2020, 8, 26, 10, 11, 55, 58950),\n",
       " datetime.datetime(2020, 8, 26, 10, 11, 55, 58950),\n",
       " datetime.datetime(2020, 8, 26, 10, 11, 55, 58950),\n",
       " datetime.datetime(2020, 8, 26, 10, 11, 55, 58950),\n",
       " datetime.datetime(2020, 8, 26, 10, 11, 55, 58950),\n",
       " datetime.datetime(2020, 8, 26, 10, 11, 55, 58950),\n",
       " datetime.datetime(2020, 8, 26, 10, 11, 55, 58950),\n",
       " datetime.datetime(2020, 8, 26, 10, 11, 55, 58950)]"
      ]
     },
     "execution_count": 66,
     "metadata": {},
     "output_type": "execute_result"
    }
   ],
   "source": [
    "examples"
   ]
  },
  {
   "cell_type": "code",
   "execution_count": 33,
   "metadata": {},
   "outputs": [
    {
     "data": {
      "text/plain": [
       "['522.2',\n",
       " '308.9',\n",
       " '312.0',\n",
       " '321.2',\n",
       " '318.0',\n",
       " '310.6',\n",
       " '333.4',\n",
       " '328.7',\n",
       " '336.7',\n",
       " '336.6',\n",
       " '298.7',\n",
       " '221.1',\n",
       " '266.2',\n",
       " '286.0',\n",
       " '312.2',\n",
       " '302.7',\n",
       " '315.8',\n",
       " '324.5',\n",
       " '320.8',\n",
       " '290.5',\n",
       " '275.6',\n",
       " '334.1',\n",
       " '347.5',\n",
       " '314.8',\n",
       " '324.8',\n",
       " '346.9',\n",
       " '344.8',\n",
       " '369.9',\n",
       " '259.7',\n",
       " '238.7',\n",
       " '269.8',\n",
       " '323.7',\n",
       " '342.1',\n",
       " '365.5',\n",
       " '337.7',\n",
       " '361.3',\n",
       " '359.0',\n",
       " '353.7',\n",
       " '352.2',\n",
       " '378.3',\n",
       " '358.6',\n",
       " '362.0',\n",
       " '376.9',\n",
       " '374.6',\n",
       " '360.3',\n",
       " '376.0',\n",
       " '383.2',\n",
       " '386.1',\n",
       " '377.8',\n",
       " '381.1',\n",
       " '376.4',\n",
       " '367.4',\n",
       " '381.3',\n",
       " '386.1',\n",
       " '377.3',\n",
       " '373.2',\n",
       " '390.9',\n",
       " '386.9',\n",
       " '375.8',\n",
       " '374.4',\n",
       " '374.6',\n",
       " '380.3',\n",
       " '371.9',\n",
       " '370.2',\n",
       " '365.9',\n",
       " '384.4',\n",
       " '380.4',\n",
       " '378.7',\n",
       " '378.1',\n",
       " '368.7',\n",
       " '375.9',\n",
       " '380.5',\n",
       " '367.8',\n",
       " '380.4',\n",
       " '371.7',\n",
       " '378.3',\n",
       " '364.1',\n",
       " '378.5',\n",
       " '378.8',\n",
       " '370.3',\n",
       " '380.4',\n",
       " '371.2',\n",
       " '379.0',\n",
       " '384.3',\n",
       " '367.5',\n",
       " '383.3',\n",
       " '385.7',\n",
       " '363.6',\n",
       " '375.0',\n",
       " '388.8',\n",
       " '367.3',\n",
       " '381.7',\n",
       " '385.5',\n",
       " '372.5',\n",
       " '379.8',\n",
       " '373.3',\n",
       " '376.2',\n",
       " '367.4',\n",
       " '378.6',\n",
       " '382.8']"
      ]
     },
     "execution_count": 33,
     "metadata": {},
     "output_type": "execute_result"
    }
   ],
   "source": [
    "times"
   ]
  },
  {
   "cell_type": "code",
   "execution_count": 44,
   "metadata": {
    "scrolled": true
   },
   "outputs": [
    {
     "ename": "ValueError",
     "evalue": "time data '2020-08-26 10:05:52.223170' does not match format '%Y-%m-%d %H:%M:%SS'",
     "output_type": "error",
     "traceback": [
      "\u001b[0;31m---------------------------------------------------------------------------\u001b[0m",
      "\u001b[0;31mValueError\u001b[0m                                Traceback (most recent call last)",
      "\u001b[0;32m<ipython-input-44-956bc627a79d>\u001b[0m in \u001b[0;36m<module>\u001b[0;34m\u001b[0m\n\u001b[0;32m----> 1\u001b[0;31m \u001b[0mdatetime\u001b[0m\u001b[0;34m.\u001b[0m\u001b[0mdatetime\u001b[0m\u001b[0;34m.\u001b[0m\u001b[0mstrptime\u001b[0m\u001b[0;34m(\u001b[0m\u001b[0mtimes_elapsed\u001b[0m\u001b[0;34m[\u001b[0m\u001b[0;36m0\u001b[0m\u001b[0;34m]\u001b[0m\u001b[0;34m,\u001b[0m \u001b[0;34m\"%Y-%m-%d %H:%M:%SS\"\u001b[0m\u001b[0;34m)\u001b[0m\u001b[0;34m\u001b[0m\u001b[0;34m\u001b[0m\u001b[0m\n\u001b[0m",
      "\u001b[0;32m~/anaconda3/lib/python3.7/_strptime.py\u001b[0m in \u001b[0;36m_strptime_datetime\u001b[0;34m(cls, data_string, format)\u001b[0m\n\u001b[1;32m    575\u001b[0m     \"\"\"Return a class cls instance based on the input string and the\n\u001b[1;32m    576\u001b[0m     format string.\"\"\"\n\u001b[0;32m--> 577\u001b[0;31m     \u001b[0mtt\u001b[0m\u001b[0;34m,\u001b[0m \u001b[0mfraction\u001b[0m\u001b[0;34m,\u001b[0m \u001b[0mgmtoff_fraction\u001b[0m \u001b[0;34m=\u001b[0m \u001b[0m_strptime\u001b[0m\u001b[0;34m(\u001b[0m\u001b[0mdata_string\u001b[0m\u001b[0;34m,\u001b[0m \u001b[0mformat\u001b[0m\u001b[0;34m)\u001b[0m\u001b[0;34m\u001b[0m\u001b[0;34m\u001b[0m\u001b[0m\n\u001b[0m\u001b[1;32m    578\u001b[0m     \u001b[0mtzname\u001b[0m\u001b[0;34m,\u001b[0m \u001b[0mgmtoff\u001b[0m \u001b[0;34m=\u001b[0m \u001b[0mtt\u001b[0m\u001b[0;34m[\u001b[0m\u001b[0;34m-\u001b[0m\u001b[0;36m2\u001b[0m\u001b[0;34m:\u001b[0m\u001b[0;34m]\u001b[0m\u001b[0;34m\u001b[0m\u001b[0;34m\u001b[0m\u001b[0m\n\u001b[1;32m    579\u001b[0m     \u001b[0margs\u001b[0m \u001b[0;34m=\u001b[0m \u001b[0mtt\u001b[0m\u001b[0;34m[\u001b[0m\u001b[0;34m:\u001b[0m\u001b[0;36m6\u001b[0m\u001b[0;34m]\u001b[0m \u001b[0;34m+\u001b[0m \u001b[0;34m(\u001b[0m\u001b[0mfraction\u001b[0m\u001b[0;34m,\u001b[0m\u001b[0;34m)\u001b[0m\u001b[0;34m\u001b[0m\u001b[0;34m\u001b[0m\u001b[0m\n",
      "\u001b[0;32m~/anaconda3/lib/python3.7/_strptime.py\u001b[0m in \u001b[0;36m_strptime\u001b[0;34m(data_string, format)\u001b[0m\n\u001b[1;32m    357\u001b[0m     \u001b[0;32mif\u001b[0m \u001b[0;32mnot\u001b[0m \u001b[0mfound\u001b[0m\u001b[0;34m:\u001b[0m\u001b[0;34m\u001b[0m\u001b[0;34m\u001b[0m\u001b[0m\n\u001b[1;32m    358\u001b[0m         raise ValueError(\"time data %r does not match format %r\" %\n\u001b[0;32m--> 359\u001b[0;31m                          (data_string, format))\n\u001b[0m\u001b[1;32m    360\u001b[0m     \u001b[0;32mif\u001b[0m \u001b[0mlen\u001b[0m\u001b[0;34m(\u001b[0m\u001b[0mdata_string\u001b[0m\u001b[0;34m)\u001b[0m \u001b[0;34m!=\u001b[0m \u001b[0mfound\u001b[0m\u001b[0;34m.\u001b[0m\u001b[0mend\u001b[0m\u001b[0;34m(\u001b[0m\u001b[0;34m)\u001b[0m\u001b[0;34m:\u001b[0m\u001b[0;34m\u001b[0m\u001b[0;34m\u001b[0m\u001b[0m\n\u001b[1;32m    361\u001b[0m         raise ValueError(\"unconverted data remains: %s\" %\n",
      "\u001b[0;31mValueError\u001b[0m: time data '2020-08-26 10:05:52.223170' does not match format '%Y-%m-%d %H:%M:%SS'"
     ]
    }
   ],
   "source": [
    "datetime.datetime.strptime(times_elapsed[0], \"%Y-%m-%d %H:%M:%SS\")"
   ]
  },
  {
   "cell_type": "code",
   "execution_count": 55,
   "metadata": {},
   "outputs": [
    {
     "data": {
      "text/plain": [
       "4.144016"
      ]
     },
     "execution_count": 55,
     "metadata": {},
     "output_type": "execute_result"
    }
   ],
   "source": [
    "time_1=datetime.datetime.fromisoformat(times_elapsed[0])\n",
    "time_2=datetime.datetime.fromisoformat(times_elapsed[1])\n",
    "timedelta=time_2-time_1\n",
    "float(str(timedelta.seconds)+'.'+str(timedelta.microseconds))"
   ]
  },
  {
   "cell_type": "code",
   "execution_count": 48,
   "metadata": {},
   "outputs": [
    {
     "data": {
      "text/plain": [
       "datetime.datetime(2020, 8, 26, 10, 5, 52, 223170)"
      ]
     },
     "execution_count": 48,
     "metadata": {},
     "output_type": "execute_result"
    }
   ],
   "source": [
    "time_1"
   ]
  },
  {
   "cell_type": "code",
   "execution_count": 49,
   "metadata": {},
   "outputs": [
    {
     "data": {
      "text/plain": [
       "datetime.datetime(2020, 8, 26, 10, 5, 56, 367186)"
      ]
     },
     "execution_count": 49,
     "metadata": {},
     "output_type": "execute_result"
    }
   ],
   "source": [
    "time_2"
   ]
  },
  {
   "cell_type": "code",
   "execution_count": null,
   "metadata": {},
   "outputs": [],
   "source": []
  }
 ],
 "metadata": {
  "kernelspec": {
   "display_name": "Python 3",
   "language": "python",
   "name": "python3"
  },
  "language_info": {
   "codemirror_mode": {
    "name": "ipython",
    "version": 3
   },
   "file_extension": ".py",
   "mimetype": "text/x-python",
   "name": "python",
   "nbconvert_exporter": "python",
   "pygments_lexer": "ipython3",
   "version": "3.7.1"
  }
 },
 "nbformat": 4,
 "nbformat_minor": 2
}
